{
 "cells": [
  {
   "cell_type": "code",
   "execution_count": 512,
   "metadata": {},
   "outputs": [],
   "source": [
    "import pandas_datareader as web\n",
    "import datetime\n",
    "import pandas as pd\n",
    "import matplotlib.pyplot as plt\n",
    "import seaborn \n",
    "\n"
   ]
  },
  {
   "cell_type": "code",
   "execution_count": 513,
   "metadata": {},
   "outputs": [],
   "source": [
    "# datetime . datetime is a data type within the datetime module\n",
    "start = datetime . datetime (2020 , 1 , 1)\n",
    "end = datetime . datetime (2021 , 1 , 1)\n"
   ]
  },
  {
   "cell_type": "code",
   "execution_count": 514,
   "metadata": {},
   "outputs": [],
   "source": [
    "# DataReader method name is case sensitive\n",
    "tsla = web . DataReader (\"tsla\", 'yahoo', start , end )\n"
   ]
  },
  {
   "cell_type": "markdown",
   "metadata": {},
   "source": [
    "# Exploratory Data Analysis"
   ]
  },
  {
   "cell_type": "code",
   "execution_count": 515,
   "metadata": {
    "scrolled": true
   },
   "outputs": [
    {
     "data": {
      "text/html": [
       "<div>\n",
       "<style scoped>\n",
       "    .dataframe tbody tr th:only-of-type {\n",
       "        vertical-align: middle;\n",
       "    }\n",
       "\n",
       "    .dataframe tbody tr th {\n",
       "        vertical-align: top;\n",
       "    }\n",
       "\n",
       "    .dataframe thead th {\n",
       "        text-align: right;\n",
       "    }\n",
       "</style>\n",
       "<table border=\"1\" class=\"dataframe\">\n",
       "  <thead>\n",
       "    <tr style=\"text-align: right;\">\n",
       "      <th></th>\n",
       "      <th>High</th>\n",
       "      <th>Low</th>\n",
       "      <th>Open</th>\n",
       "      <th>Close</th>\n",
       "      <th>Volume</th>\n",
       "      <th>Adj Close</th>\n",
       "    </tr>\n",
       "    <tr>\n",
       "      <th>Date</th>\n",
       "      <th></th>\n",
       "      <th></th>\n",
       "      <th></th>\n",
       "      <th></th>\n",
       "      <th></th>\n",
       "      <th></th>\n",
       "    </tr>\n",
       "  </thead>\n",
       "  <tbody>\n",
       "    <tr>\n",
       "      <th>2019-12-31</th>\n",
       "      <td>84.258003</td>\n",
       "      <td>80.416000</td>\n",
       "      <td>81.000000</td>\n",
       "      <td>83.666000</td>\n",
       "      <td>51428500.0</td>\n",
       "      <td>83.666000</td>\n",
       "    </tr>\n",
       "    <tr>\n",
       "      <th>2020-01-02</th>\n",
       "      <td>86.139999</td>\n",
       "      <td>84.342003</td>\n",
       "      <td>84.900002</td>\n",
       "      <td>86.052002</td>\n",
       "      <td>47660500.0</td>\n",
       "      <td>86.052002</td>\n",
       "    </tr>\n",
       "    <tr>\n",
       "      <th>2020-01-03</th>\n",
       "      <td>90.800003</td>\n",
       "      <td>87.384003</td>\n",
       "      <td>88.099998</td>\n",
       "      <td>88.601997</td>\n",
       "      <td>88892500.0</td>\n",
       "      <td>88.601997</td>\n",
       "    </tr>\n",
       "    <tr>\n",
       "      <th>2020-01-06</th>\n",
       "      <td>90.311996</td>\n",
       "      <td>88.000000</td>\n",
       "      <td>88.094002</td>\n",
       "      <td>90.307999</td>\n",
       "      <td>50665000.0</td>\n",
       "      <td>90.307999</td>\n",
       "    </tr>\n",
       "    <tr>\n",
       "      <th>2020-01-07</th>\n",
       "      <td>94.325996</td>\n",
       "      <td>90.671997</td>\n",
       "      <td>92.279999</td>\n",
       "      <td>93.811996</td>\n",
       "      <td>89410500.0</td>\n",
       "      <td>93.811996</td>\n",
       "    </tr>\n",
       "  </tbody>\n",
       "</table>\n",
       "</div>"
      ],
      "text/plain": [
       "                 High        Low       Open      Close      Volume  Adj Close\n",
       "Date                                                                         \n",
       "2019-12-31  84.258003  80.416000  81.000000  83.666000  51428500.0  83.666000\n",
       "2020-01-02  86.139999  84.342003  84.900002  86.052002  47660500.0  86.052002\n",
       "2020-01-03  90.800003  87.384003  88.099998  88.601997  88892500.0  88.601997\n",
       "2020-01-06  90.311996  88.000000  88.094002  90.307999  50665000.0  90.307999\n",
       "2020-01-07  94.325996  90.671997  92.279999  93.811996  89410500.0  93.811996"
      ]
     },
     "execution_count": 515,
     "metadata": {},
     "output_type": "execute_result"
    }
   ],
   "source": [
    "tsla.head()"
   ]
  },
  {
   "cell_type": "code",
   "execution_count": 516,
   "metadata": {},
   "outputs": [
    {
     "data": {
      "text/plain": [
       "(254, 6)"
      ]
     },
     "execution_count": 516,
     "metadata": {},
     "output_type": "execute_result"
    }
   ],
   "source": [
    "tsla.shape"
   ]
  },
  {
   "cell_type": "code",
   "execution_count": 518,
   "metadata": {
    "scrolled": true
   },
   "outputs": [
    {
     "data": {
      "image/png": "[encoded data removed]",
      "text/plain": [
       "<Figure size 432x288 with 1 Axes>"
      ]
     },
     "metadata": {
      "needs_background": "light"
     },
     "output_type": "display_data"
    }
   ],
   "source": [
    "tsla_close = tsla['Close']\n",
    "tsla_close.plot()\n",
    "plt.show()"
   ]
  },
  {
   "cell_type": "markdown",
   "metadata": {},
   "source": [
    "# Trading Strategy Using Simple Moving Average Crossover"
   ]
  },
  {
   "cell_type": "code",
   "execution_count": 519,
   "metadata": {},
   "outputs": [],
   "source": [
    "tsla['MA30'] = tsla['Close'].rolling(30).mean()\n",
    "tsla['MA10']= tsla['Close'].rolling(10).mean()"
   ]
  },
  {
   "cell_type": "code",
   "execution_count": 520,
   "metadata": {},
   "outputs": [
    {
     "data": {
      "text/plain": [
       "<AxesSubplot:xlabel='Date'>"
      ]
     },
     "execution_count": 520,
     "metadata": {},
     "output_type": "execute_result"
    },
    {
     "data": {
      "image/png": "[encoded data removed]",
      "text/plain": [
       "<Figure size 432x288 with 1 Axes>"
      ]
     },
     "metadata": {
      "needs_background": "light"
     },
     "output_type": "display_data"
    }
   ],
   "source": [
    "tsla['Close'].plot(legend = True, color = \"green\")\n",
    "tsla['MA30'].plot(legend = True, color = \"orange\")\n",
    "tsla['MA10'].plot(legend = True, color = \"red\")"
   ]
  },
  {
   "cell_type": "code",
   "execution_count": 521,
   "metadata": {},
   "outputs": [],
   "source": [
    "#buy when MA 10 is above MA 30\n",
    "tsla['shares'] = [1 if tsla.loc[i, 'MA10']> tsla.loc[i,'MA30'] else 0 for i in tsla.index]"
   ]
  },
  {
   "cell_type": "code",
   "execution_count": 522,
   "metadata": {},
   "outputs": [],
   "source": [
    "tsla['Y'] = tsla['Close'].shift(-1)- tsla['Close']\n",
    "tsla['Profit'] = [tsla.loc[i, 'Y'] if tsla.loc[i, 'shares'] == 1 else 0 for i in tsla.index]"
   ]
  },
  {
   "cell_type": "code",
   "execution_count": 523,
   "metadata": {},
   "outputs": [
    {
     "data": {
      "text/plain": [
       "<AxesSubplot:xlabel='Date'>"
      ]
     },
     "execution_count": 523,
     "metadata": {},
     "output_type": "execute_result"
    },
    {
     "data": {
      "image/png": "[encoded data removed]",
      "text/plain": [
       "<Figure size 432x288 with 1 Axes>"
      ]
     },
     "metadata": {
      "needs_background": "light"
     },
     "output_type": "display_data"
    }
   ],
   "source": [
    "tsla['Profit'].plot()"
   ]
  },
  {
   "cell_type": "code",
   "execution_count": 524,
   "metadata": {},
   "outputs": [
    {
     "data": {
      "text/plain": [
       "<AxesSubplot:xlabel='Date'>"
      ]
     },
     "execution_count": 524,
     "metadata": {},
     "output_type": "execute_result"
    },
    {
     "data": {
      "image/png": "[encoded data removed]",
      "text/plain": [
       "<Figure size 432x288 with 1 Axes>"
      ]
     },
     "metadata": {
      "needs_background": "light"
     },
     "output_type": "display_data"
    }
   ],
   "source": [
    "tsla['Profit'].cumsum().plot()"
   ]
  },
  {
   "cell_type": "markdown",
   "metadata": {},
   "source": [
    "# Linear Regression Model "
   ]
  },
  {
   "cell_type": "code",
   "execution_count": 550,
   "metadata": {},
   "outputs": [
    {
     "data": {
      "text/html": [
       "<div>\n",
       "<style scoped>\n",
       "    .dataframe tbody tr th:only-of-type {\n",
       "        vertical-align: middle;\n",
       "    }\n",
       "\n",
       "    .dataframe tbody tr th {\n",
       "        vertical-align: top;\n",
       "    }\n",
       "\n",
       "    .dataframe thead th {\n",
       "        text-align: right;\n",
       "    }\n",
       "</style>\n",
       "<table border=\"1\" class=\"dataframe\">\n",
       "  <thead>\n",
       "    <tr style=\"text-align: right;\">\n",
       "      <th></th>\n",
       "      <th>Y</th>\n",
       "      <th>X1</th>\n",
       "      <th>X2</th>\n",
       "      <th>X3</th>\n",
       "      <th>X4</th>\n",
       "      <th>X5</th>\n",
       "      <th>X6</th>\n",
       "      <th>X7</th>\n",
       "      <th>X8</th>\n",
       "    </tr>\n",
       "  </thead>\n",
       "  <tbody>\n",
       "    <tr>\n",
       "      <th>Y</th>\n",
       "      <td>1.000000</td>\n",
       "      <td>-0.045734</td>\n",
       "      <td>-0.112917</td>\n",
       "      <td>0.036505</td>\n",
       "      <td>-0.116734</td>\n",
       "      <td>-0.053244</td>\n",
       "      <td>0.040441</td>\n",
       "      <td>-0.105226</td>\n",
       "      <td>-0.045734</td>\n",
       "    </tr>\n",
       "    <tr>\n",
       "      <th>X1</th>\n",
       "      <td>-0.045734</td>\n",
       "      <td>1.000000</td>\n",
       "      <td>0.109420</td>\n",
       "      <td>-0.558306</td>\n",
       "      <td>0.247723</td>\n",
       "      <td>0.747121</td>\n",
       "      <td>-0.527210</td>\n",
       "      <td>-0.347759</td>\n",
       "      <td>1.000000</td>\n",
       "    </tr>\n",
       "    <tr>\n",
       "      <th>X2</th>\n",
       "      <td>-0.112917</td>\n",
       "      <td>0.109420</td>\n",
       "      <td>1.000000</td>\n",
       "      <td>0.538100</td>\n",
       "      <td>0.336882</td>\n",
       "      <td>0.110120</td>\n",
       "      <td>-0.619864</td>\n",
       "      <td>0.690708</td>\n",
       "      <td>0.109420</td>\n",
       "    </tr>\n",
       "    <tr>\n",
       "      <th>X3</th>\n",
       "      <td>0.036505</td>\n",
       "      <td>-0.558306</td>\n",
       "      <td>0.538100</td>\n",
       "      <td>1.000000</td>\n",
       "      <td>0.116492</td>\n",
       "      <td>-0.677871</td>\n",
       "      <td>0.047126</td>\n",
       "      <td>0.722474</td>\n",
       "      <td>-0.558306</td>\n",
       "    </tr>\n",
       "    <tr>\n",
       "      <th>X4</th>\n",
       "      <td>-0.116734</td>\n",
       "      <td>0.247723</td>\n",
       "      <td>0.336882</td>\n",
       "      <td>0.116492</td>\n",
       "      <td>1.000000</td>\n",
       "      <td>0.150095</td>\n",
       "      <td>-0.305735</td>\n",
       "      <td>0.143378</td>\n",
       "      <td>0.247723</td>\n",
       "    </tr>\n",
       "    <tr>\n",
       "      <th>X5</th>\n",
       "      <td>-0.053244</td>\n",
       "      <td>0.747121</td>\n",
       "      <td>0.110120</td>\n",
       "      <td>-0.677871</td>\n",
       "      <td>0.150095</td>\n",
       "      <td>1.000000</td>\n",
       "      <td>-0.766310</td>\n",
       "      <td>-0.567213</td>\n",
       "      <td>0.747121</td>\n",
       "    </tr>\n",
       "    <tr>\n",
       "      <th>X6</th>\n",
       "      <td>0.040441</td>\n",
       "      <td>-0.527210</td>\n",
       "      <td>-0.619864</td>\n",
       "      <td>0.047126</td>\n",
       "      <td>-0.305735</td>\n",
       "      <td>-0.766310</td>\n",
       "      <td>1.000000</td>\n",
       "      <td>0.139304</td>\n",
       "      <td>-0.527210</td>\n",
       "    </tr>\n",
       "    <tr>\n",
       "      <th>X7</th>\n",
       "      <td>-0.105226</td>\n",
       "      <td>-0.347759</td>\n",
       "      <td>0.690708</td>\n",
       "      <td>0.722474</td>\n",
       "      <td>0.143378</td>\n",
       "      <td>-0.567213</td>\n",
       "      <td>0.139304</td>\n",
       "      <td>1.000000</td>\n",
       "      <td>-0.347759</td>\n",
       "    </tr>\n",
       "    <tr>\n",
       "      <th>X8</th>\n",
       "      <td>-0.045734</td>\n",
       "      <td>1.000000</td>\n",
       "      <td>0.109420</td>\n",
       "      <td>-0.558306</td>\n",
       "      <td>0.247723</td>\n",
       "      <td>0.747121</td>\n",
       "      <td>-0.527210</td>\n",
       "      <td>-0.347759</td>\n",
       "      <td>1.000000</td>\n",
       "    </tr>\n",
       "  </tbody>\n",
       "</table>\n",
       "</div>"
      ],
      "text/plain": [
       "           Y        X1        X2        X3        X4        X5        X6  \\\n",
       "Y   1.000000 -0.045734 -0.112917  0.036505 -0.116734 -0.053244  0.040441   \n",
       "X1 -0.045734  1.000000  0.109420 -0.558306  0.247723  0.747121 -0.527210   \n",
       "X2 -0.112917  0.109420  1.000000  0.538100  0.336882  0.110120 -0.619864   \n",
       "X3  0.036505 -0.558306  0.538100  1.000000  0.116492 -0.677871  0.047126   \n",
       "X4 -0.116734  0.247723  0.336882  0.116492  1.000000  0.150095 -0.305735   \n",
       "X5 -0.053244  0.747121  0.110120 -0.677871  0.150095  1.000000 -0.766310   \n",
       "X6  0.040441 -0.527210 -0.619864  0.047126 -0.305735 -0.766310  1.000000   \n",
       "X7 -0.105226 -0.347759  0.690708  0.722474  0.143378 -0.567213  0.139304   \n",
       "X8 -0.045734  1.000000  0.109420 -0.558306  0.247723  0.747121 -0.527210   \n",
       "\n",
       "          X7        X8  \n",
       "Y  -0.105226 -0.045734  \n",
       "X1 -0.347759  1.000000  \n",
       "X2  0.690708  0.109420  \n",
       "X3  0.722474 -0.558306  \n",
       "X4  0.143378  0.247723  \n",
       "X5 -0.567213  0.747121  \n",
       "X6  0.139304 -0.527210  \n",
       "X7  1.000000 -0.347759  \n",
       "X8 -0.347759  1.000000  "
      ]
     },
     "execution_count": 550,
     "metadata": {},
     "output_type": "execute_result"
    }
   ],
   "source": [
    "#feature engineering\n",
    "tsla['X1']= tsla['Close']-tsla['Close'].shift (1)\n",
    "tsla['X2']= tsla['High']-tsla['Low']\n",
    "tsla['X3']= tsla['High']-tsla['Close']\n",
    "tsla['X4']=tsla['Volume']-tsla['Volume'].shift (1)\n",
    "tsla['X5']=tsla['Adj Close']-tsla['Open']\n",
    "tsla['X6']=tsla['Open']-tsla['High']\n",
    "tsla['X7']=tsla['Open']-tsla['Low']\n",
    "tsla['X8']=tsla['Adj Close']-tsla['Adj Close'].shift(1)\n",
    "\n",
    "tsla = tsla.dropna(axis=0)\n",
    "\n",
    "feature=['Y','X1','X2','X3','X4','X5','X6','X7','X8']\n",
    "tsla[feature].corr()"
   ]
  },
  {
   "cell_type": "code",
   "execution_count": 531,
   "metadata": {
    "scrolled": true
   },
   "outputs": [],
   "source": [
    "#train, test split\n",
    "train = tsla.iloc[:180,:]\n",
    "test = tsla.iloc[180:,:]"
   ]
  },
  {
   "cell_type": "code",
   "execution_count": 565,
   "metadata": {},
   "outputs": [],
   "source": [
    "#select the 3 best predictors\n",
    "import statsmodels.formula.api as smf\n",
    "trainmodel = smf.ols(formula='Y ~ X2+X4+X7', data=train).fit()\n",
    "train['Y_predict']=trainmodel.predict(train)\n",
    "test['Y_predict']=trainmodel.predict(test)"
   ]
  },
  {
   "cell_type": "code",
   "execution_count": 566,
   "metadata": {
    "scrolled": true
   },
   "outputs": [],
   "source": [
    "train['Profit']=[train.loc[t,'Y'] if train.loc[t,'Y_predict']>0 else 0 for t in train.index]\n",
    "test['Profit']=[test.loc[t,'Y'] if test.loc[t,'Y_predict']>0 else 0 for t in test.index]"
   ]
  },
  {
   "cell_type": "code",
   "execution_count": 567,
   "metadata": {
    "scrolled": true
   },
   "outputs": [
    {
     "data": {
      "text/plain": [
       "(1.5541001213921442, 2.837954434481534)"
      ]
     },
     "execution_count": 567,
     "metadata": {},
     "output_type": "execute_result"
    }
   ],
   "source": [
    "train['Profit'].mean(),test['Profit'].mean()"
   ]
  },
  {
   "cell_type": "code",
   "execution_count": 554,
   "metadata": {},
   "outputs": [
    {
     "data": {
      "text/plain": [
       "[<matplotlib.lines.Line2D at 0x28699cffee0>]"
      ]
     },
     "execution_count": 554,
     "metadata": {},
     "output_type": "execute_result"
    },
    {
     "data": {
      "image/png": "[encoded data removed]",
      "text/plain": [
       "<Figure size 432x288 with 1 Axes>"
      ]
     },
     "metadata": {
      "needs_background": "light"
     },
     "output_type": "display_data"
    }
   ],
   "source": [
    "plt.plot(train['Profit'].cumsum())\n",
    "plt.plot(test['Profit'].cumsum())"
   ]
  },
  {
   "cell_type": "markdown",
   "metadata": {},
   "source": [
    "# Model Evaluation"
   ]
  },
  {
   "cell_type": "code",
   "execution_count": 555,
   "metadata": {},
   "outputs": [],
   "source": [
    "def RMSE(data,k):\n",
    "    return ((((data['Y']-data['Y_predict'])**2).sum())/(data.shape[0]-k-1))**0.5\n",
    "def R2(data,model_k):\n",
    "    SST=((data['Y']-data['Y'].mean())**2).sum()\n",
    "    SSE=((data['Y']-data['Y_predict'])**2).sum()\n",
    "    SSR=((data['Y'].mean()-data['Y_predict'])**2).sum()\n",
    "    r2=SSR/SST\n",
    "    return 1-(1-r2)*(data.shape[0]-1)/(data.shape[0]-model_k-1)"
   ]
  },
  {
   "cell_type": "code",
   "execution_count": 556,
   "metadata": {
    "scrolled": true
   },
   "outputs": [],
   "source": [
    "rmse_train = RMSE(train,8)\n",
    "rmse_test = RMSE(test,8)"
   ]
  },
  {
   "cell_type": "code",
   "execution_count": 557,
   "metadata": {},
   "outputs": [],
   "source": [
    "#consistency of the model\n",
    "r2_train= R2(train,8)\n",
    "r2_test = R2(test,8)"
   ]
  },
  {
   "cell_type": "code",
   "execution_count": 558,
   "metadata": {},
   "outputs": [
    {
     "data": {
      "text/html": [
       "<div>\n",
       "<style scoped>\n",
       "    .dataframe tbody tr th:only-of-type {\n",
       "        vertical-align: middle;\n",
       "    }\n",
       "\n",
       "    .dataframe tbody tr th {\n",
       "        vertical-align: top;\n",
       "    }\n",
       "\n",
       "    .dataframe thead th {\n",
       "        text-align: right;\n",
       "    }\n",
       "</style>\n",
       "<table border=\"1\" class=\"dataframe\">\n",
       "  <thead>\n",
       "    <tr style=\"text-align: right;\">\n",
       "      <th></th>\n",
       "      <th>Train</th>\n",
       "      <th>Test</th>\n",
       "    </tr>\n",
       "  </thead>\n",
       "  <tbody>\n",
       "    <tr>\n",
       "      <th>R2</th>\n",
       "      <td>0.011641</td>\n",
       "      <td>0.009129</td>\n",
       "    </tr>\n",
       "    <tr>\n",
       "      <th>RMSE</th>\n",
       "      <td>15.135023</td>\n",
       "      <td>25.383008</td>\n",
       "    </tr>\n",
       "  </tbody>\n",
       "</table>\n",
       "</div>"
      ],
      "text/plain": [
       "          Train       Test\n",
       "R2     0.011641   0.009129\n",
       "RMSE  15.135023  25.383008"
      ]
     },
     "execution_count": 558,
     "metadata": {},
     "output_type": "execute_result"
    }
   ],
   "source": [
    "assessment = pd.DataFrame(index= ['R2', 'RMSE']\n",
    "                         ,columns = ['Train', 'Test'])\n",
    "assessment['Train']= [r2_train, rmse_train]\n",
    "assessment ['Test'] = [r2_test, rmse_test]\n",
    "assessment"
   ]
  },
  {
   "cell_type": "markdown",
   "metadata": {},
   "source": [
    "# Trade using Signals"
   ]
  },
  {
   "cell_type": "code",
   "execution_count": 568,
   "metadata": {},
   "outputs": [
    {
     "data": {
      "text/html": [
       "<div>\n",
       "<style scoped>\n",
       "    .dataframe tbody tr th:only-of-type {\n",
       "        vertical-align: middle;\n",
       "    }\n",
       "\n",
       "    .dataframe tbody tr th {\n",
       "        vertical-align: top;\n",
       "    }\n",
       "\n",
       "    .dataframe thead th {\n",
       "        text-align: right;\n",
       "    }\n",
       "</style>\n",
       "<table border=\"1\" class=\"dataframe\">\n",
       "  <thead>\n",
       "    <tr style=\"text-align: right;\">\n",
       "      <th></th>\n",
       "      <th>Price</th>\n",
       "      <th>Signal</th>\n",
       "    </tr>\n",
       "    <tr>\n",
       "      <th>Date</th>\n",
       "      <th></th>\n",
       "      <th></th>\n",
       "    </tr>\n",
       "  </thead>\n",
       "  <tbody>\n",
       "    <tr>\n",
       "      <th>2020-10-28</th>\n",
       "      <td>406.019989</td>\n",
       "      <td>0.571653</td>\n",
       "    </tr>\n",
       "    <tr>\n",
       "      <th>2020-10-29</th>\n",
       "      <td>410.829987</td>\n",
       "      <td>2.972221</td>\n",
       "    </tr>\n",
       "    <tr>\n",
       "      <th>2020-10-30</th>\n",
       "      <td>388.040009</td>\n",
       "      <td>-6.045743</td>\n",
       "    </tr>\n",
       "    <tr>\n",
       "      <th>2020-11-02</th>\n",
       "      <td>400.510010</td>\n",
       "      <td>3.966693</td>\n",
       "    </tr>\n",
       "    <tr>\n",
       "      <th>2020-11-03</th>\n",
       "      <td>423.899994</td>\n",
       "      <td>2.327809</td>\n",
       "    </tr>\n",
       "  </tbody>\n",
       "</table>\n",
       "</div>"
      ],
      "text/plain": [
       "                 Price    Signal\n",
       "Date                            \n",
       "2020-10-28  406.019989  0.571653\n",
       "2020-10-29  410.829987  2.972221\n",
       "2020-10-30  388.040009 -6.045743\n",
       "2020-11-02  400.510010  3.966693\n",
       "2020-11-03  423.899994  2.327809"
      ]
     },
     "execution_count": 568,
     "metadata": {},
     "output_type": "execute_result"
    }
   ],
   "source": [
    "Trade_Test=pd.DataFrame()\n",
    "Trade_Test['Price']=test['Close']\n",
    "Trade_Test['Signal']=test['Y_predict']\n",
    "Trade_Test.head()"
   ]
  },
  {
   "cell_type": "code",
   "execution_count": 569,
   "metadata": {
    "scrolled": true
   },
   "outputs": [
    {
     "name": "stdout",
     "output_type": "stream",
     "text": [
      "263.7799987792969\n"
     ]
    },
    {
     "data": {
      "text/html": [
       "<div>\n",
       "<style scoped>\n",
       "    .dataframe tbody tr th:only-of-type {\n",
       "        vertical-align: middle;\n",
       "    }\n",
       "\n",
       "    .dataframe tbody tr th {\n",
       "        vertical-align: top;\n",
       "    }\n",
       "\n",
       "    .dataframe thead th {\n",
       "        text-align: right;\n",
       "    }\n",
       "</style>\n",
       "<table border=\"1\" class=\"dataframe\">\n",
       "  <thead>\n",
       "    <tr style=\"text-align: right;\">\n",
       "      <th></th>\n",
       "      <th>Price</th>\n",
       "      <th>Signal</th>\n",
       "      <th>Order</th>\n",
       "      <th>Price_change</th>\n",
       "      <th>Profit</th>\n",
       "      <th>Wealth</th>\n",
       "    </tr>\n",
       "    <tr>\n",
       "      <th>Date</th>\n",
       "      <th></th>\n",
       "      <th></th>\n",
       "      <th></th>\n",
       "      <th></th>\n",
       "      <th></th>\n",
       "      <th></th>\n",
       "    </tr>\n",
       "  </thead>\n",
       "  <tbody>\n",
       "    <tr>\n",
       "      <th>2020-10-28</th>\n",
       "      <td>406.019989</td>\n",
       "      <td>0.571653</td>\n",
       "      <td>1</td>\n",
       "      <td>NaN</td>\n",
       "      <td>NaN</td>\n",
       "      <td>NaN</td>\n",
       "    </tr>\n",
       "    <tr>\n",
       "      <th>2020-10-29</th>\n",
       "      <td>410.829987</td>\n",
       "      <td>2.972221</td>\n",
       "      <td>1</td>\n",
       "      <td>4.809998</td>\n",
       "      <td>4.809998</td>\n",
       "      <td>410.829987</td>\n",
       "    </tr>\n",
       "    <tr>\n",
       "      <th>2020-10-30</th>\n",
       "      <td>388.040009</td>\n",
       "      <td>-6.045743</td>\n",
       "      <td>-1</td>\n",
       "      <td>-22.789978</td>\n",
       "      <td>22.789978</td>\n",
       "      <td>433.619965</td>\n",
       "    </tr>\n",
       "    <tr>\n",
       "      <th>2020-11-02</th>\n",
       "      <td>400.510010</td>\n",
       "      <td>3.966693</td>\n",
       "      <td>1</td>\n",
       "      <td>12.470001</td>\n",
       "      <td>12.470001</td>\n",
       "      <td>446.089966</td>\n",
       "    </tr>\n",
       "    <tr>\n",
       "      <th>2020-11-03</th>\n",
       "      <td>423.899994</td>\n",
       "      <td>2.327809</td>\n",
       "      <td>1</td>\n",
       "      <td>23.389984</td>\n",
       "      <td>23.389984</td>\n",
       "      <td>469.479950</td>\n",
       "    </tr>\n",
       "  </tbody>\n",
       "</table>\n",
       "</div>"
      ],
      "text/plain": [
       "                 Price    Signal  Order  Price_change     Profit      Wealth\n",
       "Date                                                                        \n",
       "2020-10-28  406.019989  0.571653      1           NaN        NaN         NaN\n",
       "2020-10-29  410.829987  2.972221      1      4.809998   4.809998  410.829987\n",
       "2020-10-30  388.040009 -6.045743     -1    -22.789978  22.789978  433.619965\n",
       "2020-11-02  400.510010  3.966693      1     12.470001  12.470001  446.089966\n",
       "2020-11-03  423.899994  2.327809      1     23.389984  23.389984  469.479950"
      ]
     },
     "execution_count": 569,
     "metadata": {},
     "output_type": "execute_result"
    }
   ],
   "source": [
    "#buy when there is a profit predicted, sell when negative profit is predicted\n",
    "Trade_Test['Order']=[1 if sig>0 else -1 for sig in Trade_Test['Signal']  ]\n",
    "Trade_Test['Price_change']=Trade_Test['Price']-Trade_Test['Price'].shift(1)\n",
    "Trade_Test['Profit']=Trade_Test['Price_change']*Trade_Test['Order']\n",
    "print(Trade_Test['Profit'].sum())\n",
    "Trade_Test['Wealth']=Trade_Test['Profit'].cumsum()+Trade_Test['Price'][0]\n",
    "Trade_Test.head()"
   ]
  },
  {
   "cell_type": "code",
   "execution_count": 570,
   "metadata": {},
   "outputs": [
    {
     "data": {
      "text/plain": [
       "<AxesSubplot:xlabel='Date'>"
      ]
     },
     "execution_count": 570,
     "metadata": {},
     "output_type": "execute_result"
    },
    {
     "data": {
      "image/png": "[encoded data removed]",
      "text/plain": [
       "<Figure size 432x288 with 1 Axes>"
      ]
     },
     "metadata": {
      "needs_background": "light"
     },
     "output_type": "display_data"
    }
   ],
   "source": [
    "Trade_Test['Wealth'].plot(legend = True)\n",
    "Trade_Test['Price'].plot(legend = True)"
   ]
  },
  {
   "cell_type": "markdown",
   "metadata": {},
   "source": [
    "# Performance: Sharpe Ratio and Maximum Drawdown"
   ]
  },
  {
   "cell_type": "code",
   "execution_count": 571,
   "metadata": {},
   "outputs": [
    {
     "name": "stdout",
     "output_type": "stream",
     "text": [
      "daily sharpe ratio is  0.325312602819219\n",
      "yearly sharpe ratio is 4.825165665722088\n"
     ]
    }
   ],
   "source": [
    "Trade_Test.head()\n",
    "# daily return\n",
    "Trade_Test['Return']=(Trade_Test['Wealth']\n",
    "                      -Trade_Test['Wealth'].shift(1))/Trade_Test['Wealth'].shift(1)\n",
    "dailyr=Trade_Test['Return'].dropna()\n",
    "print(\"daily sharpe ratio is \", dailyr.mean()/dailyr.std(ddof=1))\n",
    "print(\"yearly sharpe ratio is\", (220**0.5)*dailyr.mean()/dailyr.std(ddof=1))"
   ]
  },
  {
   "cell_type": "code",
   "execution_count": 572,
   "metadata": {},
   "outputs": [
    {
     "name": "stdout",
     "output_type": "stream",
     "text": [
      "Maximum drawdown rate in test is 0.16143318490861347\n"
     ]
    }
   ],
   "source": [
    "Trade_Test['Peak']=[Trade_Test['Wealth'].loc[:any_index].max() \n",
    "                    for any_index in Trade_Test.index ]\n",
    "Trade_Test['Drawdown']=(Trade_Test['Peak']-Trade_Test['Wealth'])/Trade_Test['Peak']\n",
    "print(\"Maximum drawdown rate in test is\", Trade_Test['Drawdown'].max())"
   ]
  },
  {
   "cell_type": "markdown",
   "metadata": {},
   "source": [
    "# "
   ]
  }
 ],
 "metadata": {
  "kernelspec": {
   "display_name": "Python 3",
   "language": "python",
   "name": "python3"
  },
  "language_info": {
   "codemirror_mode": {
    "name": "ipython",
    "version": 3
   },
   "file_extension": ".py",
   "mimetype": "text/x-python",
   "name": "python",
   "nbconvert_exporter": "python",
   "pygments_lexer": "ipython3",
   "version": "3.8.5"
  }
 },
 "nbformat": 4,
 "nbformat_minor": 4
}
